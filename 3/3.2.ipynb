{
 "cells": [
  {
   "cell_type": "code",
   "execution_count": 1,
   "metadata": {
    "collapsed": true
   },
   "outputs": [],
   "source": [
    "import numpy.random as rand\n",
    "import matplotlib.pyplot as plt\n",
    "import numpy as np\n",
    "%matplotlib inline"
   ]
  },
  {
   "cell_type": "code",
   "execution_count": 2,
   "metadata": {
    "collapsed": false
   },
   "outputs": [],
   "source": [
    "data = []\n",
    "with open(\"Cauchy.csv\", \"r\") as file:\n",
    "    for line in file:\n",
    "        data.append(float(line.strip()))"
   ]
  },
  {
   "cell_type": "code",
   "execution_count": 3,
   "metadata": {
    "collapsed": false
   },
   "outputs": [],
   "source": [
    "# Логарифмическая функция правдободобия L(x0)\n",
    "def L(x0, values = data):\n",
    "    return sum([\n",
    "        np.log(1 / (np.pi * (1 + (x - x0) ** 2))) for x in values\n",
    "    ])"
   ]
  },
  {
   "cell_type": "markdown",
   "metadata": {},
   "source": [
    "Если взглянуть на плотность нашего распределения: $p(x)=\\frac{1}{\\pi(1+(x−x_0)^2)}$, можно понять, что она максимальна в точке $x_0$ и симметрично убывает при отдалении от этого значения. Это значит, что наш оцениваемый параметр должен находится среди значений данных. Поэтому в качестве диапазона для его поиска возмем $[\\min{x},\\max{x}]$"
   ]
  },
  {
   "cell_type": "code",
   "execution_count": 4,
   "metadata": {
    "collapsed": false
   },
   "outputs": [
    {
     "data": {
      "text/plain": [
       "<matplotlib.text.Text at 0x7f0768cf5048>"
      ]
     },
     "execution_count": 4,
     "metadata": {},
     "output_type": "execute_result"
    },
    {
     "data": {
      "image/png": "[encoded data removed]",
      "text/plain": [
       "<matplotlib.figure.Figure at 0x7f076b06ae80>"
      ]
     },
     "metadata": {},
     "output_type": "display_data"
    }
   ],
   "source": [
    "x0 = 10\n",
    "def p(x):\n",
    "    return 1 / (np.pi * (1 + ((x - x0) ** 2)))\n",
    "xp = np.linspace(x0 - 5, x0 + 5, 10**3)\n",
    "\n",
    "myFigure, myAxis = plt.subplots()\n",
    "myAxis.plot(xp, [p(x) for x in xp], label=r\"$p(x)$\")\n",
    "myAxis.legend(loc=\"upper left\")\n",
    "myAxis.set_xlabel(\"x\")\n",
    "myAxis.set_ylabel(r\"$p(x)$\")\n",
    "myAxis.set_title(r\"$p(x)$ for $Cauchy({})$\".format(x0))"
   ]
  },
  {
   "cell_type": "code",
   "execution_count": 5,
   "metadata": {
    "collapsed": true
   },
   "outputs": [],
   "source": [
    "xStep = 0.01"
   ]
  },
  {
   "cell_type": "code",
   "execution_count": 9,
   "metadata": {
    "collapsed": false
   },
   "outputs": [
    {
     "name": "stdout",
     "output_type": "stream",
     "text": [
      "685.99\n"
     ]
    }
   ],
   "source": [
    "# Половина всей выборки\n",
    "\n",
    "xMin, xMax = min(data[:int(len(data) / 2)]), max(data[:int(len(data) / 2)])\n",
    "maximum = L(xMin, data[:int(len(data) / 2)])\n",
    "result1 = xMin\n",
    "for x in np.arange(start=xMin, stop=xMax, step=xStep):\n",
    "    temp = L(x, data[:int(len(data) / 2)])\n",
    "    if temp > maximum:\n",
    "        maximum = temp\n",
    "        result1 = x\n",
    "print(result1)"
   ]
  },
  {
   "cell_type": "markdown",
   "metadata": {},
   "source": [
    "При оценке по половине выборки получаем $x_0=685.99$"
   ]
  },
  {
   "cell_type": "code",
   "execution_count": 10,
   "metadata": {
    "collapsed": false
   },
   "outputs": [
    {
     "name": "stdout",
     "output_type": "stream",
     "text": [
      "685.969999999\n"
     ]
    }
   ],
   "source": [
    "# Целая выборка\n",
    "\n",
    "xMin, xMax = min(data), max(data)\n",
    "maximum = L(xMin)\n",
    "result2 = xMin\n",
    "for x in np.arange(start=xMin, stop=xMax, step=xStep):\n",
    "    temp = L(x)\n",
    "    if temp > maximum:\n",
    "        maximum = temp\n",
    "        result2 = x\n",
    "print(result2)"
   ]
  },
  {
   "cell_type": "markdown",
   "metadata": {},
   "source": [
    "А при оценке по полной выборке получаем $x_0=685.97$"
   ]
  },
  {
   "cell_type": "markdown",
   "metadata": {},
   "source": [
    "Посчитав логарифмическую функцию правдоподобия на обоих значениях по полной выборке, получим, что значение по полной выборке более правдоподобное. Никаких противоречий здесь не возникает, это логично."
   ]
  }
 ],
 "metadata": {
  "kernelspec": {
   "display_name": "Python 3",
   "language": "python",
   "name": "python3"
  },
  "language_info": {
   "codemirror_mode": {
    "name": "ipython",
    "version": 3
   },
   "file_extension": ".py",
   "mimetype": "text/x-python",
   "name": "python",
   "nbconvert_exporter": "python",
   "pygments_lexer": "ipython3",
   "version": "3.5.1"
  }
 },
 "nbformat": 4,
 "nbformat_minor": 0
}
