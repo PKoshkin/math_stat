{
 "cells": [
  {
   "cell_type": "code",
   "execution_count": 1,
   "metadata": {
    "collapsed": true
   },
   "outputs": [],
   "source": [
    "import numpy.random as rand\n",
    "import matplotlib.pyplot as plt\n",
    "import numpy as np\n",
    "import math\n",
    "%matplotlib inline"
   ]
  },
  {
   "cell_type": "code",
   "execution_count": 2,
   "metadata": {
    "collapsed": true
   },
   "outputs": [],
   "source": [
    "data = []\n",
    "with open(\"Weibull.csv\", \"r\") as file:\n",
    "    for line in file:\n",
    "        data.append(float(line.strip()))\n",
    "\n",
    "size = len(data)\n",
    "\n",
    "tStep = 0.001\n",
    "minValue = 10**-320"
   ]
  },
  {
   "cell_type": "markdown",
   "metadata": {},
   "source": [
    "Сначала посчитаем плотность и функцию правдоподобия, получим:\n",
    "\n",
    "$p(x) = \\gamma x^{\\gamma-1} e^{-x^{\\gamma}} I(x \\ge 0)$\n",
    "\n",
    "$f_\\gamma(x_1,...,x_n) = \\prod \\limits_{k=1}^{n}\\gamma x_k^{\\gamma-1}e^{-x_k^{\\gamma}}I(x_k \\ge 0)$\n",
    "\n",
    "Из выражения для $f_{\\gamma}$ видно, что если хоть одно значение выборки меньше нуля, правдоподобие равно нулю. Поэтому для начала проверим, что таких значений в выборке нет."
   ]
  },
  {
   "cell_type": "code",
   "execution_count": 3,
   "metadata": {
    "collapsed": false
   },
   "outputs": [
    {
     "name": "stdout",
     "output_type": "stream",
     "text": [
      "0.0\n"
     ]
    }
   ],
   "source": [
    "print(min(data)) # 0.0"
   ]
  },
  {
   "cell_type": "markdown",
   "metadata": {},
   "source": [
    "С учетом вышесказанного, можно считать, что\n",
    "\n",
    "$f_\\gamma(x_1,...,x_n) = \\prod \\limits_{k=1}^{n}\\gamma x_k^{\\gamma-1}e^{-x_k^{\\gamma}}$\n",
    "\n",
    "Далее считаем логарифмическую функцию правдоподобия (по основанию 10):\n",
    "\n",
    "$L_\\gamma(x_1,...x_n) = n\\lg{\\gamma}+(\\gamma-1)\\sum\\limits_{k=1}^{n}\\lg{x_k}-\\sum\\limits_{k=1}^{n}x_k^{\\gamma}$"
   ]
  },
  {
   "cell_type": "code",
   "execution_count": 4,
   "metadata": {
    "collapsed": false
   },
   "outputs": [
    {
     "data": {
      "text/plain": [
       "<matplotlib.text.Text at 0x7ff8070cc048>"
      ]
     },
     "execution_count": 4,
     "metadata": {},
     "output_type": "execute_result"
    },
    {
     "data": {
      "image/png": "[encoded data removed]",
      "text/plain": [
       "<matplotlib.figure.Figure at 0x7ff8094abe10>"
      ]
     },
     "metadata": {},
     "output_type": "display_data"
    }
   ],
   "source": [
    "gamma = 1\n",
    "def p(x):\n",
    "    return gamma * pow(x, gamma - 1) * np.exp(-pow(x, gamma))\n",
    "xp = np.linspace(gamma - 5, gamma + 5, 10**3)\n",
    "\n",
    "myFigure, myAxis = plt.subplots()\n",
    "myAxis.plot(xp, [p(x) for x in xp], label=r\"$p(x)$\")\n",
    "myAxis.legend(loc=\"upper left\")\n",
    "myAxis.set_xlabel(\"x\")\n",
    "myAxis.set_ylabel(r\"$p(x)$\")\n",
    "myAxis.set_title(r\"$p(x)$ for $Weibull({})$\".format(gamma))"
   ]
  },
  {
   "cell_type": "code",
   "execution_count": 5,
   "metadata": {
    "collapsed": false
   },
   "outputs": [],
   "source": [
    "# Для нулей, которые в файле все равно приходится писать костыль.\n",
    "\n",
    "def L(gamma, values = data):\n",
    "    return (\n",
    "        math.log10(gamma) * len(values) +\n",
    "        sum([(gamma - 1) * math.log10(max(value, minValue)) - pow(max(value, minValue), gamma) for value in values])       \n",
    "    )"
   ]
  },
  {
   "cell_type": "code",
   "execution_count": 6,
   "metadata": {
    "collapsed": false
   },
   "outputs": [
    {
     "name": "stdout",
     "output_type": "stream",
     "text": [
      "0.350751873952\n"
     ]
    }
   ],
   "source": [
    "# Первые 4 года\n",
    "days = 365 * 4 + 1\n",
    "\n",
    "tMin, tMax = -2, 2\n",
    "\n",
    "maximum = L(pow(10, tMin), data[:days])\n",
    "result1 = tMin\n",
    "for t in np.arange(start=tMin, stop=tMax, step=tStep):\n",
    "    temp = L(pow(10, t), data[:days])\n",
    "    if temp > maximum:\n",
    "        maximum = temp\n",
    "        result1 = t\n",
    "print(pow(10, result1))"
   ]
  },
  {
   "cell_type": "markdown",
   "metadata": {},
   "source": [
    "При оценке по первым 4 годам получили оценку параметра $\\gamma=0.351$"
   ]
  },
  {
   "cell_type": "code",
   "execution_count": 7,
   "metadata": {
    "collapsed": false
   },
   "outputs": [
    {
     "name": "stdout",
     "output_type": "stream",
     "text": [
      "0.264850013861\n"
     ]
    }
   ],
   "source": [
    "# Вся выборка\n",
    "\n",
    "maximum = L(pow(10, tMin))\n",
    "result2 = tMin\n",
    "for t in np.arange(start=tMin, stop=tMax, step=tStep):\n",
    "    temp = L(pow(10, t))\n",
    "    if temp > maximum:\n",
    "        maximum = temp\n",
    "        result2 = t\n",
    "print(pow(10, result2))"
   ]
  },
  {
   "cell_type": "markdown",
   "metadata": {},
   "source": [
    "А при оценке по всех выборке, $\\gamma = 0.265$\n",
    "\n",
    "Расхождения в результатах приличные. Вероятно это связано с большим различием данных в первые 4 года и все последующие года. Возможно в банке произошли значительные перемиены."
   ]
  }
 ],
 "metadata": {
  "kernelspec": {
   "display_name": "Python 3",
   "language": "python",
   "name": "python3"
  },
  "language_info": {
   "codemirror_mode": {
    "name": "ipython",
    "version": 3
   },
   "file_extension": ".py",
   "mimetype": "text/x-python",
   "name": "python",
   "nbconvert_exporter": "python",
   "pygments_lexer": "ipython3",
   "version": "3.5.1"
  }
 },
 "nbformat": 4,
 "nbformat_minor": 0
}
