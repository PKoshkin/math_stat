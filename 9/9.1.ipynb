{
 "cells": [
  {
   "cell_type": "code",
   "execution_count": 1,
   "metadata": {
    "collapsed": false
   },
   "outputs": [],
   "source": [
    "import numpy.random as rand\n",
    "import matplotlib.pyplot as plt\n",
    "import numpy as np\n",
    "from numpy.linalg import inv\n",
    "%matplotlib inline"
   ]
  },
  {
   "cell_type": "code",
   "execution_count": 2,
   "metadata": {
    "collapsed": true
   },
   "outputs": [],
   "source": [
    "parametersNumber = 12"
   ]
  },
  {
   "cell_type": "code",
   "execution_count": 3,
   "metadata": {
    "collapsed": false
   },
   "outputs": [],
   "source": [
    "# Получаем данные из файла\n",
    "\n",
    "with open(\"forestfires.csv\") as file:\n",
    "    data = []\n",
    "    index = 0\n",
    "    firstLine = \"\"\n",
    "    for line in file:\n",
    "        if index == 0:\n",
    "            firstLine = line\n",
    "        else:\n",
    "            values = line[:len(line)-1].split(',')\n",
    "            data.append([\n",
    "                    float(values[0]),\n",
    "                    float(values[1]),\n",
    "                    1 if values[2] in {'jun', 'jul', 'aug'} else 0,\n",
    "                    float(values[4]),\n",
    "                    float(values[5]),\n",
    "                    float(values[6]),\n",
    "                    float(values[7]),\n",
    "                    float(values[8]),\n",
    "                    float(values[9]),\n",
    "                    float(values[10]),\n",
    "                    float(values[11]),\n",
    "                    float(values[12])\n",
    "                ]\n",
    "            )\n",
    "        index += 1"
   ]
  },
  {
   "cell_type": "code",
   "execution_count": 4,
   "metadata": {
    "collapsed": false
   },
   "outputs": [],
   "source": [
    "Z = []\n",
    "for i in range(len(data)):\n",
    "    for j in range(parametersNumber):\n",
    "        Z.append([1 if k == j else 0 for k in range(parametersNumber)])\n",
    "Z = np.array(Z)\n",
    "\n",
    "X = []\n",
    "for string in data:\n",
    "    for value in string:\n",
    "        X.append(value)\n",
    "X = np.array(X)"
   ]
  },
  {
   "cell_type": "code",
   "execution_count": 5,
   "metadata": {
    "collapsed": false
   },
   "outputs": [],
   "source": [
    "theta = inv(Z.T.dot(Z)).dot(Z.T).dot(X)"
   ]
  },
  {
   "cell_type": "code",
   "execution_count": 6,
   "metadata": {
    "collapsed": false
   },
   "outputs": [
    {
     "data": {
      "text/plain": [
       "array([  4.66924565e+00,   4.29980658e+00,   4.50676983e-01,\n",
       "         9.06446809e+01,   1.10872340e+02,   5.47940039e+02,\n",
       "         9.02166344e+00,   1.88891683e+01,   4.42882012e+01,\n",
       "         4.01760155e+00,   2.16634429e-02,   1.28472921e+01])"
      ]
     },
     "execution_count": 6,
     "metadata": {},
     "output_type": "execute_result"
    }
   ],
   "source": [
    "theta"
   ]
  },
  {
   "cell_type": "code",
   "execution_count": 7,
   "metadata": {
    "collapsed": true
   },
   "outputs": [],
   "source": [
    "np.random.shuffle(data)"
   ]
  },
  {
   "cell_type": "code",
   "execution_count": 11,
   "metadata": {
    "collapsed": false
   },
   "outputs": [
    {
     "data": {
      "text/plain": [
       "361.90000000000003"
      ]
     },
     "execution_count": 11,
     "metadata": {},
     "output_type": "execute_result"
    }
   ],
   "source": [
    "len(data) / 10 * 7"
   ]
  },
  {
   "cell_type": "code",
   "execution_count": null,
   "metadata": {
    "collapsed": true
   },
   "outputs": [],
   "source": []
  }
 ],
 "metadata": {
  "kernelspec": {
   "display_name": "Python 3",
   "language": "python",
   "name": "python3"
  },
  "language_info": {
   "codemirror_mode": {
    "name": "ipython",
    "version": 3
   },
   "file_extension": ".py",
   "mimetype": "text/x-python",
   "name": "python",
   "nbconvert_exporter": "python",
   "pygments_lexer": "ipython3",
   "version": "3.5.1"
  }
 },
 "nbformat": 4,
 "nbformat_minor": 0
}
